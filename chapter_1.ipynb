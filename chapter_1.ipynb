{
 "cells": [
  {
   "cell_type": "markdown",
   "id": "1d6ce096",
   "metadata": {},
   "source": [
    "# Loading data\n",
    "\n",
    "We can use the `mne.io.read_raw_fif()` function to load data. *MNE-Python data structures* are based around the *FIF* file format from Neuromag, but there are also *other reader functions* for a [wide variety of other data formats](https://mne.tools/stable/documentation/implementation.html#data-formats).\n",
    "<br />\n",
    "*MNE-Python* can also download and manage variety of [public available datasets via its interfaces](https://mne.tools/stable/documentation/datasets.html#datasets).\n",
    "<br />\n",
    "<br />\n",
    "Let's load one of the example dataset, \"[Samples](https://mne.tools/stable/documentation/datasets.html#sample-dataset)\", which contains EEG and MEG data from one subject performing an audiovisual experiment, along with structural MRI scans for that subject.\n",
    "<br />\n",
    "The `mne.datasets.sample.data_path()` interface function will automatically download the dataset if it isn’t found in one of the expected locations or we can specify where to download the data by passing the `path=` parameter. The interface function then return the directory path to the dataset.\n",
    "> Note: The \"Samples\" dataset contains two datasets `sample_audvis_raw.fif` which  is an unfiltered version and `sample_audvis_filt-0-40_raw.fif` which is a filtered and downsampled version of the data."
   ]
  },
  {
   "cell_type": "code",
   "execution_count": null,
   "id": "e39586fb",
   "metadata": {},
   "outputs": [],
   "source": [
    "import numpy as np\n",
    "import mne\n",
    "import os"
   ]
  },
  {
   "cell_type": "code",
   "execution_count": null,
   "id": "0a1e05d1",
   "metadata": {},
   "outputs": [],
   "source": [
    "# download the data \n",
    "sample_data_path = mne.datasets.sample.data_path(\n",
    "    path=\"./\"\n",
    ")\n",
    "\n",
    "print(f\"\\n\\nsPath to the dataset: {sample_data_path}\")"
   ]
  },
  {
   "cell_type": "code",
   "execution_count": null,
   "id": "cd67de62",
   "metadata": {},
   "outputs": [],
   "source": [
    "sample_version = \"sample_audvis_raw.fif\"\n",
    "sample_audvis_raw_path = os.path.join(\"MEG/sample/\", sample_version)\n",
    "sample_data_path = os.path.join(sample_data_path, sample_audvis_raw_path)\n",
    "\n",
    "print(f\"Loading {sample_version} dataset from the path:\\n\\t{sample_data_path}\\n\\n\")\n",
    "sample_raw = mne.io.read_raw_fif(sample_data_path)"
   ]
  },
  {
   "cell_type": "markdown",
   "id": "d3b1c7fa",
   "metadata": {},
   "source": [
    "We can see, by deafult, `read_raw_fif()` displays some info about the dataset it has loaded. Howerver, we can also get some basic details of a [`Raw` dataset object](https://mne.tools/stable/generated/mne.io.Raw.html#mne.io.Raw) by printing it or by calling its `.info` property:"
   ]
  },
  {
   "cell_type": "code",
   "execution_count": null,
   "id": "01acb8cd",
   "metadata": {},
   "outputs": [],
   "source": [
    "print(sample_raw)\n",
    "print(\"\\n~~~~~~~~~~~~~~~~~~~~~~~~~~~~~~~~~\\n\")\n",
    "print(sample_raw.info)"
   ]
  },
  {
   "cell_type": "markdown",
   "id": "d1bf9ec6",
   "metadata": {},
   "source": [
    "The `Raw` object also comes with several built-in plotting method to visualise the sensors readings:\n",
    "- [`compute_psd()`](https://mne.tools/stable/generated/mne.io.Raw.html#mne.io.Raw.compute_psd) -  to compute the **power spectral density (PSD)** for each sensor type. *Power spectral density (PSD)* is a way to describe how the power of a signal is distributed across different frequencies.\n",
    "- [`plot()`](https://mne.tools/stable/generated/mne.io.Raw.html#mne.io.Raw.plot) - to plot the raw sensor traces or the `compute_psd()` data. In interactive Python sessions, `plot()` is interactive and allows scrolling, scaling, bad channel marking, annotations, projector toggling, etc.\n",
    "\n",
    "> Note: Here in the PSD plot, we’ll only plot frequencies below 50 Hz"
   ]
  },
  {
   "cell_type": "code",
   "execution_count": null,
   "id": "ba0fc73a",
   "metadata": {},
   "outputs": [],
   "source": [
    "# PSD plot\n",
    "sample_raw.compute_psd(fmax=50).plot(picks=\"data\", exclude=\"bads\", amplitude=False)"
   ]
  },
  {
   "cell_type": "code",
   "execution_count": null,
   "id": "0eb2b05a",
   "metadata": {},
   "outputs": [],
   "source": [
    "# plot raw sensor readings\n",
    "sample_raw.plot(duration=5, n_channels=30)"
   ]
  }
 ],
 "metadata": {
  "kernelspec": {
   "display_name": ".venv (3.12.3)",
   "language": "python",
   "name": "python3"
  },
  "language_info": {
   "codemirror_mode": {
    "name": "ipython",
    "version": 3
   },
   "file_extension": ".py",
   "mimetype": "text/x-python",
   "name": "python",
   "nbconvert_exporter": "python",
   "pygments_lexer": "ipython3",
   "version": "3.12.3"
  }
 },
 "nbformat": 4,
 "nbformat_minor": 5
}
